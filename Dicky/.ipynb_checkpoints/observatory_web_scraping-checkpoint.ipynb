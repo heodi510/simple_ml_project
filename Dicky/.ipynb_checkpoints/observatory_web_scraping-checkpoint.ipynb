{
 "cells": [
  {
   "cell_type": "code",
   "execution_count": null,
   "metadata": {},
   "outputs": [],
   "source": [
    "from bs4 import BeautifulSoup\n",
    "import requests\n",
    "from selenium import webdriver\n",
    "from selenium.webdriver.common.keys import Keys\n",
    "from selenium.webdriver.support.ui import WebDriverWait\n",
    "import time\n",
    "import re\n",
    "import pandas as pd"
   ]
  },
  {
   "cell_type": "code",
   "execution_count": null,
   "metadata": {},
   "outputs": [],
   "source": [
    "URL_obs = 'http://www.hko.gov.hk/en/cis/dailyExtract.htm?y=2000&m=1'\n",
    "URL_year = re.search(r'y=(\\d{4})',URL_obs).group(1)\n",
    "URL_month = re.search(r'\\&m=(\\d+)$',URL_obs).group(1)\n",
    "#Please change the path to the location of your chromedriver\n",
    "driver = webdriver.Chrome('/Users/Hei/Applications/chromedriver')"
   ]
  },
  {
   "cell_type": "code",
   "execution_count": null,
   "metadata": {},
   "outputs": [],
   "source": [
    "#Initialize dict for storing table data\n",
    "dict_wthr_table = {'Year':[],'Month':[],'Day':[],'Mean Pressure(hPa)':[],'Absolute Daily Max(deg. C)':[],'Mean(deg. C)':[],\\\n",
    "                 'Absolute Daily min(deg. C)':[],'Mean Dew Point(deg. C)':[],'Mean Relative Humidity(%)':[],\\\n",
    "                 'Mean Amount of Cloud(%)':[],'Total Rainfall(mm)':[],'Total Bright Sunshine(hours)':[],\\\n",
    "                 'Prevailling Wind Direction(degrees)':[],'Mean Wind Speed(km/h)':[]}\n",
    "\n",
    "\n",
    "# while int(URL_year)<2020 or int(URL_month)<10:\n",
    "while int(URL_year)<2020:\n",
    "    \n",
    "    #Get html data by beautiful soup\n",
    "    driver.get(URL_obs)\n",
    "    time.sleep(6)\n",
    "    subhtml = driver.page_source\n",
    "    soup = BeautifulSoup(subhtml, 'html.parser')\n",
    "\n",
    "    #Get date from html\n",
    "    date = soup.find_all(class_=\"td1_year_class\")\n",
    "    date=[d.get_text() for d in date[:-2]]\n",
    "    #Get weather detail from html\n",
    "    weather = soup.find_all(class_=\"td1_normal_class\")\n",
    "    \n",
    "    print(URL_month)\n",
    "    for d in date:\n",
    "        current_day = int(d)\n",
    "        start_index=(current_day-1)*11\n",
    "        end_index=(current_day)*11\n",
    "        line=[data.get_text() for data in weather[start_index:end_index]]\n",
    "        dict_wthr_table['Year'].append(URL_year)\n",
    "        dict_wthr_table['Month'].append(URL_month)\n",
    "        dict_wthr_table['Day'].append(d)\n",
    "        print(d,line)\n",
    "        for i in range(len(line)):\n",
    "            if i%11==0:\n",
    "                dict_wthr_table['Mean Pressure(hPa)'].append(line[i])\n",
    "            elif i%11==1:\n",
    "                dict_wthr_table['Absolute Daily Max(deg. C)'].append(line[i])\n",
    "            elif i%11==2:\n",
    "                dict_wthr_table['Mean(deg. C)'].append(line[i])\n",
    "            elif i%11==3:\n",
    "                dict_wthr_table['Absolute Daily min(deg. C)'].append(line[i])\n",
    "            elif i%11==4:\n",
    "                dict_wthr_table['Mean Dew Point(deg. C)'].append(line[i])\n",
    "            elif i%11==5:\n",
    "                dict_wthr_table['Mean Relative Humidity(%)'].append(line[i])\n",
    "            elif i%11==6:\n",
    "                dict_wthr_table['Mean Amount of Cloud(%)'].append(line[i])\n",
    "            elif i%11==7:\n",
    "                dict_wthr_table['Total Rainfall(mm)'].append(line[i])\n",
    "            elif i%11==8:\n",
    "                dict_wthr_table['Total Bright Sunshine(hours)'].append(line[i])\n",
    "            elif i%11==9:\n",
    "                dict_wthr_table['Prevailling Wind Direction(degrees)'].append(line[i])\n",
    "            elif i%11==10:\n",
    "                dict_wthr_table['Mean Wind Speed(km/h)'].append(line[i])\n",
    "    \n",
    "    #update URL\n",
    "    if URL_month=='12':\n",
    "        URL_month='1'\n",
    "        URL_year=str(int(URL_year)+1)\n",
    "    else:\n",
    "        URL_month= str(int(URL_month)+1)\n",
    "    URL_obs='http://www.hko.gov.hk/en/cis/dailyExtract.htm?y='+URL_year+'&m='+URL_month"
   ]
  },
  {
   "cell_type": "code",
   "execution_count": null,
   "metadata": {},
   "outputs": [],
   "source": [
    "df_wthr_table=pd.DataFrame(dict_wthr_table)\n",
    "df_wthr_table.to_csv('weather_hk.csv',index=False)"
   ]
  },
  {
   "cell_type": "code",
   "execution_count": null,
   "metadata": {},
   "outputs": [],
   "source": [
    "df_wthr_table.shape"
   ]
  },
  {
   "cell_type": "code",
   "execution_count": null,
   "metadata": {},
   "outputs": [],
   "source": [
    "df_wthr_table"
   ]
  }
 ],
 "metadata": {
  "kernelspec": {
   "display_name": "Python 3",
   "language": "python",
   "name": "python3"
  },
  "language_info": {
   "codemirror_mode": {
    "name": "ipython",
    "version": 3
   },
   "file_extension": ".py",
   "mimetype": "text/x-python",
   "name": "python",
   "nbconvert_exporter": "python",
   "pygments_lexer": "ipython3",
   "version": "3.8.3"
  }
 },
 "nbformat": 4,
 "nbformat_minor": 4
}
